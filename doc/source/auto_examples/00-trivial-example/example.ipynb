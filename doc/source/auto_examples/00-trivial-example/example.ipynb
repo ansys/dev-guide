{
  "cells": [
    {
      "cell_type": "code",
      "execution_count": null,
      "metadata": {
        "collapsed": false
      },
      "outputs": [],
      "source": [
        "%matplotlib inline"
      ]
    },
    {
      "cell_type": "markdown",
      "metadata": {},
      "source": [
        "\n# This is an example\nProblem Descrption:\n"
      ]
    },
    {
      "cell_type": "code",
      "execution_count": null,
      "metadata": {
        "collapsed": false
      },
      "outputs": [],
      "source": [
        "# Python program to demonstrate Addition of elements in a List\n# ~~~~~~~~~~~~~~~~~~~~~~~~~~~~~~~~~~~~~~~~~~~~~~~~~~~~~~~~~~~~"
      ]
    },
    {
      "cell_type": "markdown",
      "metadata": {},
      "source": [
        "## 1. Creating a List\n\n"
      ]
    },
    {
      "cell_type": "code",
      "execution_count": null,
      "metadata": {
        "collapsed": false
      },
      "outputs": [],
      "source": [
        "print(\"\\n1. Creating a List\") \nList = [] \nprint(\"Intial blank List: \") \nprint(List)"
      ]
    },
    {
      "cell_type": "markdown",
      "metadata": {},
      "source": [
        "## 2. Addition of Elements in the List \n\n"
      ]
    },
    {
      "cell_type": "code",
      "execution_count": null,
      "metadata": {
        "collapsed": false
      },
      "outputs": [],
      "source": [
        "print(\"Addition of Elements in the List\")\nList.append(1) \nList.append(2) \nList.append(4) \nprint(\"Printing the List after Addition of Three elements: \") \nprint(List)"
      ]
    },
    {
      "cell_type": "markdown",
      "metadata": {},
      "source": [
        "## 3. Adding elements to the List using Iterator \n\n"
      ]
    },
    {
      "cell_type": "code",
      "execution_count": null,
      "metadata": {
        "collapsed": false
      },
      "outputs": [],
      "source": [
        "print(\"\\n3. Adding elements to the List using Iterator\")\nfor i in range(1, 4): \n\tList.append(i) \nprint(\"\\nList after Addition of elements from 1-3: \") \nprint(List)"
      ]
    },
    {
      "cell_type": "markdown",
      "metadata": {},
      "source": [
        "## Addition of List to a List\n\n"
      ]
    },
    {
      "cell_type": "code",
      "execution_count": null,
      "metadata": {
        "collapsed": false
      },
      "outputs": [],
      "source": [
        "print(\"\\n4. Addition of List to a List\") \nList2 = ['Stars', 'Moon'] \nList.append(List2) \nprint(\"\\nList after Addition of a List: \") \nprint(List)"
      ]
    },
    {
      "cell_type": "markdown",
      "metadata": {},
      "source": [
        "## Addition of Element at specific Position (using Insert Method)\n\n"
      ]
    },
    {
      "cell_type": "code",
      "execution_count": null,
      "metadata": {
        "collapsed": false
      },
      "outputs": [],
      "source": [
        "print(\"\\n5. Addition of Element at specific Position (using Insert Method)\") \nList.insert(3, 12) \nList2.insert(0, 'Terminator') \nprint(\"\\nList after performing Insert Operation: \") \nprint(List)"
      ]
    },
    {
      "cell_type": "markdown",
      "metadata": {},
      "source": [
        "## Addition of multiple elements to the List at the end (using Extend Method)\n\n"
      ]
    },
    {
      "cell_type": "code",
      "execution_count": null,
      "metadata": {
        "collapsed": false
      },
      "outputs": [],
      "source": [
        "print(\"\\n6. Addition of multiple elements to the List at the end (using Extend Method)\") \nList.extend([8, 'Diode', 'Transistor']) \nprint(\"\\nList after performing Extend Operation: \") \nprint(List)"
      ]
    },
    {
      "cell_type": "markdown",
      "metadata": {},
      "source": [
        "## Adding Tuples to the List\n\n"
      ]
    },
    {
      "cell_type": "code",
      "execution_count": null,
      "metadata": {
        "collapsed": false
      },
      "outputs": [],
      "source": [
        "print(\"\\n7. Adding Tuples to the List\") \nList.append((5, 6)) \nprint(\"\\nList after Addition of a Tuple: \") \nprint(List)"
      ]
    }
  ],
  "metadata": {
    "kernelspec": {
      "display_name": "Python 3",
      "language": "python",
      "name": "python3"
    },
    "language_info": {
      "codemirror_mode": {
        "name": "ipython",
        "version": 3
      },
      "file_extension": ".py",
      "mimetype": "text/x-python",
      "name": "python",
      "nbconvert_exporter": "python",
      "pygments_lexer": "ipython3",
      "version": "3.10.7"
    }
  },
  "nbformat": 4,
  "nbformat_minor": 0
}